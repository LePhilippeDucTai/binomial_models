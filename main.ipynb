{
 "cells": [
  {
   "cell_type": "code",
   "execution_count": 3,
   "metadata": {},
   "outputs": [],
   "source": [
    "from binomial_trees import CRRModel\n",
    "from european_options import EuropeanCallOption\n",
    "\n",
    "r, sigma, T, dt = 0.3, 0.5, 1, 0.0001\n",
    "s0 = 100\n",
    "K = 110\n",
    "model = CRRModel(s0,r, sigma, T, dt)\n",
    "call = EuropeanCallOption(model, K)"
   ]
  },
  {
   "cell_type": "code",
   "execution_count": 4,
   "metadata": {},
   "outputs": [
    {
     "data": {
      "text/plain": [
       "array([[2.86086990e+01, 2.89808194e+01, 2.93564062e+01, ...,\n",
       "        5.08204148e+23, 5.10751532e+23, 5.13311685e+23],\n",
       "       [0.00000000e+00, 2.82356871e+01, 2.86043393e+01, ...,\n",
       "        5.03147432e+23, 5.05669469e+23, 5.08204148e+23],\n",
       "       [0.00000000e+00, 0.00000000e+00, 2.78661453e+01, ...,\n",
       "        4.98141032e+23, 5.00637974e+23, 5.03147432e+23],\n",
       "       ...,\n",
       "       [0.00000000e+00, 0.00000000e+00, 0.00000000e+00, ...,\n",
       "        0.00000000e+00, 0.00000000e+00, 0.00000000e+00],\n",
       "       [0.00000000e+00, 0.00000000e+00, 0.00000000e+00, ...,\n",
       "        0.00000000e+00, 0.00000000e+00, 0.00000000e+00],\n",
       "       [0.00000000e+00, 0.00000000e+00, 0.00000000e+00, ...,\n",
       "        0.00000000e+00, 0.00000000e+00, 0.00000000e+00]])"
      ]
     },
     "execution_count": 4,
     "metadata": {},
     "output_type": "execute_result"
    }
   ],
   "source": [
    "call.npv()"
   ]
  },
  {
   "cell_type": "code",
   "execution_count": null,
   "metadata": {},
   "outputs": [],
   "source": []
  },
  {
   "cell_type": "code",
   "execution_count": null,
   "metadata": {},
   "outputs": [],
   "source": []
  }
 ],
 "metadata": {
  "kernelspec": {
   "display_name": "env_aeq",
   "language": "python",
   "name": "python3"
  },
  "language_info": {
   "codemirror_mode": {
    "name": "ipython",
    "version": 3
   },
   "file_extension": ".py",
   "mimetype": "text/x-python",
   "name": "python",
   "nbconvert_exporter": "python",
   "pygments_lexer": "ipython3",
   "version": "3.10.8"
  },
  "orig_nbformat": 4,
  "vscode": {
   "interpreter": {
    "hash": "51d7a2e75fde989985825ba278295d9587a526b49e2c67af565edc0c7caad672"
   }
  }
 },
 "nbformat": 4,
 "nbformat_minor": 2
}
